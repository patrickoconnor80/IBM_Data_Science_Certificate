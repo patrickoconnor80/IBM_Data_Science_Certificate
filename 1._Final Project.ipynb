{
 "cells": [
  {
   "cell_type": "code",
   "execution_count": 71,
   "metadata": {},
   "outputs": [],
   "source": [
    "import pandas as pd\n",
    "import numpy as np"
   ]
  },
  {
   "cell_type": "markdown",
   "metadata": {},
   "source": [
    "Use the Pandas read_html function to read the data from the wikipeadia page"
   ]
  },
  {
   "cell_type": "code",
   "execution_count": 72,
   "metadata": {},
   "outputs": [
    {
     "data": {
      "text/plain": [
       "[    Postcode           Borough  \\\n",
       " 0        M1A      Not assigned   \n",
       " 1        M2A      Not assigned   \n",
       " 2        M3A        North York   \n",
       " 3        M4A        North York   \n",
       " 4        M5A  Downtown Toronto   \n",
       " 5        M5A  Downtown Toronto   \n",
       " 6        M6A        North York   \n",
       " 7        M6A        North York   \n",
       " 8        M7A      Queen's Park   \n",
       " 9        M8A      Not assigned   \n",
       " 10       M9A         Etobicoke   \n",
       " 11       M1B       Scarborough   \n",
       " 12       M1B       Scarborough   \n",
       " 13       M2B      Not assigned   \n",
       " 14       M3B        North York   \n",
       " 15       M4B         East York   \n",
       " 16       M4B         East York   \n",
       " 17       M5B  Downtown Toronto   \n",
       " 18       M5B  Downtown Toronto   \n",
       " 19       M6B        North York   \n",
       " 20       M7B      Not assigned   \n",
       " 21       M8B      Not assigned   \n",
       " 22       M9B         Etobicoke   \n",
       " 23       M9B         Etobicoke   \n",
       " 24       M9B         Etobicoke   \n",
       " 25       M9B         Etobicoke   \n",
       " 26       M9B         Etobicoke   \n",
       " 27       M1C       Scarborough   \n",
       " 28       M1C       Scarborough   \n",
       " 29       M1C       Scarborough   \n",
       " ..       ...               ...   \n",
       " 258      M9X      Not assigned   \n",
       " 259      M1Y      Not assigned   \n",
       " 260      M2Y      Not assigned   \n",
       " 261      M3Y      Not assigned   \n",
       " 262      M4Y  Downtown Toronto   \n",
       " 263      M5Y      Not assigned   \n",
       " 264      M6Y      Not assigned   \n",
       " 265      M7Y      East Toronto   \n",
       " 266      M8Y         Etobicoke   \n",
       " 267      M8Y         Etobicoke   \n",
       " 268      M8Y         Etobicoke   \n",
       " 269      M8Y         Etobicoke   \n",
       " 270      M8Y         Etobicoke   \n",
       " 271      M8Y         Etobicoke   \n",
       " 272      M8Y         Etobicoke   \n",
       " 273      M8Y         Etobicoke   \n",
       " 274      M9Y      Not assigned   \n",
       " 275      M1Z      Not assigned   \n",
       " 276      M2Z      Not assigned   \n",
       " 277      M3Z      Not assigned   \n",
       " 278      M4Z      Not assigned   \n",
       " 279      M5Z      Not assigned   \n",
       " 280      M6Z      Not assigned   \n",
       " 281      M7Z      Not assigned   \n",
       " 282      M8Z         Etobicoke   \n",
       " 283      M8Z         Etobicoke   \n",
       " 284      M8Z         Etobicoke   \n",
       " 285      M8Z         Etobicoke   \n",
       " 286      M8Z         Etobicoke   \n",
       " 287      M9Z      Not assigned   \n",
       " \n",
       "                                          Neighbourhood  \n",
       " 0                                         Not assigned  \n",
       " 1                                         Not assigned  \n",
       " 2                                            Parkwoods  \n",
       " 3                                     Victoria Village  \n",
       " 4                                         Harbourfront  \n",
       " 5                                          Regent Park  \n",
       " 6                                     Lawrence Heights  \n",
       " 7                                       Lawrence Manor  \n",
       " 8                                         Not assigned  \n",
       " 9                                         Not assigned  \n",
       " 10                                    Islington Avenue  \n",
       " 11                                               Rouge  \n",
       " 12                                             Malvern  \n",
       " 13                                        Not assigned  \n",
       " 14                                     Don Mills North  \n",
       " 15                                    Woodbine Gardens  \n",
       " 16                                       Parkview Hill  \n",
       " 17                                             Ryerson  \n",
       " 18                                     Garden District  \n",
       " 19                                           Glencairn  \n",
       " 20                                        Not assigned  \n",
       " 21                                        Not assigned  \n",
       " 22                                          Cloverdale  \n",
       " 23                                           Islington  \n",
       " 24                                        Martin Grove  \n",
       " 25                                    Princess Gardens  \n",
       " 26                                     West Deane Park  \n",
       " 27                                      Highland Creek  \n",
       " 28                                          Rouge Hill  \n",
       " 29                                          Port Union  \n",
       " ..                                                 ...  \n",
       " 258                                       Not assigned  \n",
       " 259                                       Not assigned  \n",
       " 260                                       Not assigned  \n",
       " 261                                       Not assigned  \n",
       " 262                               Church and Wellesley  \n",
       " 263                                       Not assigned  \n",
       " 264                                       Not assigned  \n",
       " 265  Business Reply Mail Processing Centre 969 Eastern  \n",
       " 266                                         Humber Bay  \n",
       " 267                                   King's Mill Park  \n",
       " 268                           Kingsway Park South East  \n",
       " 269                                          Mimico NE  \n",
       " 270                                     Old Mill South  \n",
       " 271                                 The Queensway East  \n",
       " 272                              Royal York South East  \n",
       " 273                                           Sunnylea  \n",
       " 274                                       Not assigned  \n",
       " 275                                       Not assigned  \n",
       " 276                                       Not assigned  \n",
       " 277                                       Not assigned  \n",
       " 278                                       Not assigned  \n",
       " 279                                       Not assigned  \n",
       " 280                                       Not assigned  \n",
       " 281                                       Not assigned  \n",
       " 282                           Kingsway Park South West  \n",
       " 283                                          Mimico NW  \n",
       " 284                                 The Queensway West  \n",
       " 285                              Royal York South West  \n",
       " 286                                     South of Bloor  \n",
       " 287                                       Not assigned  \n",
       " \n",
       " [288 rows x 3 columns],\n",
       "                                                   0   \\\n",
       " 0                                                NaN   \n",
       " 1  NL NS PE NB QC ON MB SK AB BC NU/NT YT A B C E...   \n",
       " 2                                                 NL   \n",
       " 3                                                  A   \n",
       " \n",
       "                                                   1   \\\n",
       " 0                              Canadian postal codes   \n",
       " 1  NL NS PE NB QC ON MB SK AB BC NU/NT YT A B C E...   \n",
       " 2                                                 NS   \n",
       " 3                                                  B   \n",
       " \n",
       "                                                   2    3    4    5    6    7   \\\n",
       " 0                                                NaN  NaN  NaN  NaN  NaN  NaN   \n",
       " 1  NL NS PE NB QC ON MB SK AB BC NU/NT YT A B C E...  NaN  NaN  NaN  NaN  NaN   \n",
       " 2                                                 PE   NB   QC   QC   QC   ON   \n",
       " 3                                                  C    E    G    H    J    K   \n",
       " \n",
       "     8    9    10   11   12   13   14   15     16   17  \n",
       " 0  NaN  NaN  NaN  NaN  NaN  NaN  NaN  NaN    NaN  NaN  \n",
       " 1  NaN  NaN  NaN  NaN  NaN  NaN  NaN  NaN    NaN  NaN  \n",
       " 2   ON   ON   ON   ON   MB   SK   AB   BC  NU/NT   YT  \n",
       " 3    L    M    N    P    R    S    T    V      X    Y  ,\n",
       "    0   1   2   3   4   5   6   7   8   9   10  11  12  13  14  15     16  17\n",
       " 0  NL  NS  PE  NB  QC  QC  QC  ON  ON  ON  ON  ON  MB  SK  AB  BC  NU/NT  YT\n",
       " 1   A   B   C   E   G   H   J   K   L   M   N   P   R   S   T   V      X   Y]"
      ]
     },
     "execution_count": 72,
     "metadata": {},
     "output_type": "execute_result"
    }
   ],
   "source": [
    "link = 'https://en.wikipedia.org/wiki/List_of_postal_codes_of_Canada:_M'\n",
    "\n",
    "wiki_df = pd.read_html(link)\n",
    "wiki_df"
   ]
  },
  {
   "cell_type": "markdown",
   "metadata": {},
   "source": [
    "Select the first table from the wikipedia page(the one we're looking for)"
   ]
  },
  {
   "cell_type": "code",
   "execution_count": 73,
   "metadata": {},
   "outputs": [],
   "source": [
    "df = wiki_df[0]"
   ]
  },
  {
   "cell_type": "markdown",
   "metadata": {},
   "source": [
    "Remove any rows where there is 'Not Assigned' Borough"
   ]
  },
  {
   "cell_type": "code",
   "execution_count": 74,
   "metadata": {},
   "outputs": [],
   "source": [
    "df = df[df['Borough'] !='Not assigned']"
   ]
  },
  {
   "cell_type": "markdown",
   "metadata": {},
   "source": [
    "Group By Postcode and Borough, and concat the Neighbourhoods. Reset the index and use comma as the delimeter"
   ]
  },
  {
   "cell_type": "code",
   "execution_count": 75,
   "metadata": {},
   "outputs": [],
   "source": [
    "df = df[['Postcode','Borough','Neighbourhood']].groupby(['Postcode','Borough'])['Neighbourhood'].apply(','.join).reset_index()"
   ]
  },
  {
   "cell_type": "markdown",
   "metadata": {},
   "source": [
    "Update the table where Neighbourhood is 'Not assigned' with the value from Borough"
   ]
  },
  {
   "cell_type": "code",
   "execution_count": 76,
   "metadata": {},
   "outputs": [],
   "source": [
    "df['Neighbourhood'] = np.where(df['Neighbourhood']=='Not assigned', df['Borough'], df['Neighbourhood'])"
   ]
  },
  {
   "cell_type": "markdown",
   "metadata": {},
   "source": [
    "Retreive the shape of the dataframe(103 rows and 3 columns)"
   ]
  },
  {
   "cell_type": "code",
   "execution_count": 79,
   "metadata": {},
   "outputs": [
    {
     "data": {
      "text/plain": [
       "(103, 3)"
      ]
     },
     "execution_count": 79,
     "metadata": {},
     "output_type": "execute_result"
    }
   ],
   "source": [
    "df.shape"
   ]
  }
 ],
 "metadata": {
  "kernelspec": {
   "display_name": "Python 3.6",
   "language": "python",
   "name": "python3"
  },
  "language_info": {
   "codemirror_mode": {
    "name": "ipython",
    "version": 3
   },
   "file_extension": ".py",
   "mimetype": "text/x-python",
   "name": "python",
   "nbconvert_exporter": "python",
   "pygments_lexer": "ipython3",
   "version": "3.6.8"
  }
 },
 "nbformat": 4,
 "nbformat_minor": 1
}
